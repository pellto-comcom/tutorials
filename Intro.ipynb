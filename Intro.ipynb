{
 "cells": [
  {
   "cell_type": "markdown",
   "id": "671337e7",
   "metadata": {},
   "source": [
    "# What is Ainize Workspace?"
   ]
  },
  {
   "cell_type": "markdown",
   "id": "d880e9e6",
   "metadata": {},
   "source": [
    "Ainize Workspace is a service that helps you build a cloud-based **free** development environment.  \n",
    "In Ainize Workspace, you can build your desired development environment and hardware environment (high-performance GPU, etc.) for **free**.\n",
    "\n",
    "Currently, the environments provided by default in Ainize Workspace are Terminal, Jupyter Notebook, and VSCode, which operate on the development environment and hardware environment set up earlier.  \n",
    "<img src=\"./images/workspace_tool.JPG\" align='left'></img><br><br>"
   ]
  },
  {
   "cell_type": "markdown",
   "id": "2b72f51a",
   "metadata": {},
   "source": [
    "Ainize Workspace has the following advantages:\n",
    "- Free use of GPU (you can select the latest GPU when you sign up for a membership)\n",
    "- Basic 24-hour guarantee (guaranteed during the membership period when you sign up for membership)\n",
    "- When sharing, the workspace itself is shared, so multiple codes, data, and development environments can be shared."
   ]
  },
  {
   "cell_type": "markdown",
   "id": "2ce0091a",
   "metadata": {},
   "source": [
    "### Stop / Start\n",
    "\n",
    "- You can deallocate the unused workspace from the machine by stopping it.\n",
    "    - If personal machine quota is not enough, you can stop and use another workspace.\n",
    "- You can use the stopped workspace by restarting it.\n",
    "    - Job history is not deleted.\n",
    "    - At this time, if there are not enough machines, it is registered in the waiting list.\n",
    "- In case of preemptive machine, it will stop automatically after 24 hours."
   ]
  },
  {
   "cell_type": "markdown",
   "id": "e1c212e0",
   "metadata": {},
   "source": [
    "### save & share (coming soon...)"
   ]
  },
  {
   "cell_type": "markdown",
   "id": "ec2f1165",
   "metadata": {},
   "source": [
    "## Getting Started with Ainize WorkSpace"
   ]
  },
  {
   "cell_type": "markdown",
   "id": "f1f9a1f1",
   "metadata": {},
   "source": [
    "### Edit mode\n",
    "<img src=\"./images/edit_mode.png\" align='left'></img><br><br>\n",
    "- Command mode + `Enter` or `Control + M` (⌃+M)\n",
    "\n",
    "### Command mode\n",
    "<img src=\"./images/command_mode.png\" align='left'></img><br><br>\n",
    "- Edit mode + `ESC`"
   ]
  },
  {
   "cell_type": "markdown",
   "id": "51d0f544",
   "metadata": {},
   "source": [
    "### Buttons and Shortcuts\n",
    "\n",
    "The functions mainly used in Ainize Workspace are composed of buttons on the top bar as shown in the figure below.\n",
    "<img src=\"./images/all_buttons.png\" align=\"left\"></img><br><br><br>\n",
    "Let's look at the functions of all the buttons and their shortcut keys.\n",
    "\n",
    "#### Save Button\n",
    "<img src=\"./images/save_button.png\" align=\"left\"></img><br><br>\n",
    "That button is the **notebook file save button**.  \n",
    "\n",
    "The shortcut is `S` or `ctrl/command + S` (⌘+S) in command mode and `ctrl/command + S` (⌘+S) in edit mode."
   ]
  },
  {
   "cell_type": "markdown",
   "id": "80dbd00f",
   "metadata": {},
   "source": [
    "#### Incert Cell Below Button\n",
    "<img src=\"./images/add_cell_button.png\" align=\"left\"></img><br><br>\n",
    "This button is **a button to add a new cell below the currently located cell**.  \n",
    "\n",
    "Shortcuts can only be used in command mode and can be added using the 'B' key.<br>\n",
    "Also, if you want to add a new cell above the currently located cell, you can add it by using the ‘A’ key in command mode."
   ]
  },
  {
   "cell_type": "code",
   "execution_count": null,
   "id": "ecdedfa2",
   "metadata": {},
   "outputs": [],
   "source": [
    "#Add new cells above and below the current cell."
   ]
  },
  {
   "cell_type": "markdown",
   "id": "06cd4578",
   "metadata": {},
   "source": [
    "#### Edit Buttons\n",
    "<img src=\"./images/edit_buttons.png\" align=\"left\"></img><br><br>\n",
    "These buttons are buttons that help you edit cells. From the right, the current **cell cut button**, **cell copy button**, and **cell paste button**.<br>\n",
    "Each shortcut can be executed by using `X`, `C`, `V` in order in command mode."
   ]
  },
  {
   "cell_type": "code",
   "execution_count": null,
   "id": "938af90a",
   "metadata": {},
   "outputs": [],
   "source": [
    "# In [1]: next to the cell block means the run number.\n",
    "# Blocks with 'In [ ]:' are Code type cells. This is explained below.\n",
    "# Cut the current cell and paste it under cell [1]."
   ]
  },
  {
   "cell_type": "code",
   "execution_count": 1,
   "id": "da5f4892",
   "metadata": {},
   "outputs": [],
   "source": [
    "# [1]"
   ]
  },
  {
   "cell_type": "code",
   "execution_count": null,
   "id": "a97dd65c",
   "metadata": {},
   "outputs": [],
   "source": [
    "# Copy the current cell and paste it anywhere."
   ]
  },
  {
   "cell_type": "markdown",
   "id": "34ccbbc4",
   "metadata": {},
   "source": [
    "#### Move Buttons\n",
    "<img src=\"./images/cell_move_button.png\" align='left'></img><br><br>\n",
    "These buttons are the buttons to change the cell position. **Move up button** and **Move down button** respectively.<br>\n",
    "There is no shortcut for each button.<br>"
   ]
  },
  {
   "cell_type": "code",
   "execution_count": null,
   "id": "f58d7511",
   "metadata": {},
   "outputs": [],
   "source": [
    "# Sort the cells below ([2]~[5]) in ascending order."
   ]
  },
  {
   "cell_type": "code",
   "execution_count": 3,
   "id": "cea8d74e",
   "metadata": {},
   "outputs": [],
   "source": [
    "# [3]"
   ]
  },
  {
   "cell_type": "code",
   "execution_count": 5,
   "id": "1a258cbb",
   "metadata": {},
   "outputs": [],
   "source": [
    "# [5]"
   ]
  },
  {
   "cell_type": "code",
   "execution_count": 4,
   "id": "cfb75031",
   "metadata": {},
   "outputs": [],
   "source": [
    "# [4]"
   ]
  },
  {
   "cell_type": "code",
   "execution_count": 2,
   "id": "32eddccc",
   "metadata": {},
   "outputs": [],
   "source": [
    "# [2]"
   ]
  },
  {
   "cell_type": "markdown",
   "id": "7a477b25",
   "metadata": {},
   "source": [
    "#### Excute Buttons\n",
    "<img src=\"./images/run_stop_reconnect_button.png\" align='left'></img><br><br>\n",
    "These buttons are buttons that help to run, stop, and restart the cell.<br>**Run and add or select cells below each button**, **Stop execution button**, **Kernel (laptop), respectively. Restart button**, **Restart and Redo all cells** button.<br>\n",
    "The shortcut keys for each button are `Shift + Enter`(⇧+↩) or `Alt/Option + Enter`(⌥+↩), `I, I`, `0, 0` (Number Zero) in that order, and **kernel There is no shortcut key for restart and redo all cells**.<br>Also, if you want to simply run the current cell without adding a cell, the shortcut key is `Ctrl/Control + Enter` (⌃+↩) or `Ctrl/Command + Enter. `(⌘+↩)."
   ]
  },
  {
   "cell_type": "code",
   "execution_count": null,
   "id": "d0f2da05",
   "metadata": {},
   "outputs": [],
   "source": [
    "# Try running the cell.\n",
    "print(\"Hello WorkSpace!!\")"
   ]
  },
  {
   "cell_type": "code",
   "execution_count": null,
   "id": "84de16af",
   "metadata": {},
   "outputs": [],
   "source": [
    "# The code below is a cell that runs for 2 minutes.\n",
    "# Run the cell and then stop it.\n",
    "# Running cells are marked with In [*]: ."
   ]
  },
  {
   "cell_type": "code",
   "execution_count": null,
   "id": "3a450e76",
   "metadata": {},
   "outputs": [],
   "source": [
    "import time\n",
    "\n",
    "\n",
    "print(\"Start!\")\n",
    "time.sleep(120)\n",
    "print(\"Finish!\")"
   ]
  },
  {
   "cell_type": "markdown",
   "id": "0ea04770",
   "metadata": {},
   "source": [
    "#### Cell Type List\n",
    "<img src=\"./images/cell_info_button.png\" align='left'></img><br><br>\n",
    "This button can designate the type of the current cell. Cell types include `Code`, `Markdown`, `Raw NBConvert`, and `Heading`.<br>\n",
    "- The `Code` type is a code cell (block) that can be executed by writing Python code.<br>\n",
    "- The `Markdown` type is a cell mainly used to describe a notebook file.<br>\n",
    "- `Raw NBConvert` type is a raw notebook cell (block).<br>\n",
    "- The `Heading` type is similar to the `Markdown` cell and is a cell (block) that composes the header.<br>\n",
    "<img src=\"./images/cell_info_list.png\" align='left'></img><br><br><br><br>"
   ]
  },
  {
   "cell_type": "code",
   "execution_count": null,
   "id": "e16f997e",
   "metadata": {},
   "outputs": [],
   "source": [
    "# The cell is a Code type cell.\n",
    "## Try running the current cell.\n",
    "print(\"Code Type Cell!\")"
   ]
  },
  {
   "cell_type": "markdown",
   "id": "978b3896",
   "metadata": {},
   "source": [
    "# The current cell is a Markdown type cell.\n",
    "## Try running the current cell.\n",
    "print(\"Markdown Type Cell!\")"
   ]
  },
  {
   "cell_type": "raw",
   "id": "614c4bb9",
   "metadata": {},
   "source": [
    "# The current cell is a Raw NBConvert type cell.\n",
    "## Try running the current cell.\n",
    "print(\"Raw NBConvert Type Cell!\")"
   ]
  },
  {
   "cell_type": "markdown",
   "id": "69ddb8a6",
   "metadata": {},
   "source": [
    "The current cell is a Markdown type cell.\n",
    "\n",
    "Change the current cell to the Heading type and try it.\n",
    "\n",
    "print(\"Heading Type Cell!\")"
   ]
  },
  {
   "cell_type": "markdown",
   "id": "a53826fc",
   "metadata": {},
   "source": [
    "#### Notebook Command Palatte Button\n",
    "<img src=\"./images/command_button.png\" align='left'></img><br><br>\n",
    "This button is used to search for functions currently available on the laptop.<br>\n",
    "You can use the shortcut keys for this button by using `Ctrl/Command + Shift + P` (⌘+⇧+F), `Ctrl/Command + Shift + F` (⌘+⇧+P), or `P’ in command mode.\n",
    "<br><br>\n",
    "Also, if you want to know more about hotkeys, you can find out by pressing the ‘H’ button in command mode."
   ]
  },
  {
   "cell_type": "code",
   "execution_count": null,
   "id": "91af740e",
   "metadata": {},
   "outputs": [],
   "source": [
    "# Open the palette and remove the top menu bar.\n",
    "# Find the toggle menubar and click it.\n",
    "# Try displaying the menu bar again."
   ]
  },
  {
   "cell_type": "markdown",
   "id": "4142c0f3",
   "metadata": {},
   "source": [
    "### Useful Command Mode Shortcuts\n",
    "#### Cell Related\n",
    "- Add cell above current cell: `A`\n",
    "- Add cell below current cell: `B`\n",
    "- Delete current cell: `D, D`\n",
    "- Restore deleted cells: `Z`\n",
    "- Cut current cell: `X`\n",
    "- Copy current cell: `C`\n",
    "- Paste the copied cell above the current cell: `Shift + V`(⇧+V)\n",
    "- Paste the copied cell below the current cell: `V`\n",
    "- Convert to current cell markdown: `M`\n",
    "- Convert to current cell code block: `Y`\n",
    "- Display the current number of cell lines: `L`\n",
    "\n",
    "\n",
    "#### Execution related\n",
    "- Execute current cell and select (create) cell below: `Shift + Enter` (⇧+↩)\n",
    "- Run current cell: `Ctrl/Control + Enter` (⌃+↩) or `Ctrl/Command + Enter` (⌘+↩)\n",
    "- Stop running cell: `I, I`"
   ]
  },
  {
   "cell_type": "markdown",
   "id": "31058a4d",
   "metadata": {},
   "source": [
    "## Data Science\n",
    "If you would like to explore data science, please go to [Explore Data Science](./DataScience.ipynb)."
   ]
  },
  {
   "cell_type": "code",
   "execution_count": null,
   "id": "00cd5fe7",
   "metadata": {},
   "outputs": [],
   "source": []
  }
 ],
 "metadata": {
  "kernelspec": {
   "display_name": "Python 3 (ipykernel)",
   "language": "python",
   "name": "python3"
  },
  "language_info": {
   "codemirror_mode": {
    "name": "ipython",
    "version": 3
   },
   "file_extension": ".py",
   "mimetype": "text/x-python",
   "name": "python",
   "nbconvert_exporter": "python",
   "pygments_lexer": "ipython3",
   "version": "3.7.10"
  }
 },
 "nbformat": 4,
 "nbformat_minor": 5
}
